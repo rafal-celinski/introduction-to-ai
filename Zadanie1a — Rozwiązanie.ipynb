{
  "cells": [
    {
      "cell_type": "markdown",
      "source": [
        "#Zadanie 1a (3 pkt)\n",
        "Celem zadania jest rozwiązanie problemu plecakowego dwoma metodami - brute force oraz według zadanej heurystyki. Należy zaimplementować metody klasy *KnapSack* - *solve_knapsack_brute_force* oraz *solve_knapsack_pw_ratio*. Poprzez rozwiązanie problemu rozumiemy podanie które przedmioty (indeksy w tablicy) należy spakować do plecaka oraz jaka jest sumaryczna wartość i masa plecaka. Punktacja wygląda następująco:\n",
        "\n",
        "\n",
        "*   Rozwiązanie problemu metodą brute force. *Podpowiedź: do wygenerowania wszystkich permutacji można użyć funkcji product z biblioteki itertools* - **1.5 pkt**\n",
        "*   Rozwiązanie problemu według heurystyki - do plecaka pakujemy przedmioty według stosunku wartości do wagi - **1 pkt**\n",
        "*   Dla metody brute force proszę wygenerować wykres zależności czasu wykonywania metody od liczby elementów w tablicach *weights* i *profits* (do obu tablic należy stopniowo dopisywać po jednym elemencie, np. 10-krotnie, wartości elementów nie mają znaczenia). Proszę również odpowiedzieć na pytania (w osobnej komórce tekstowej) - czy obie metody mają takie same rozwiązania? Jakie są Pani / Pana wnioski? - **0.5 pkt**\n",
        "\n",
        "\n"
      ],
      "metadata": {
        "id": "88lxDms-saqt"
      }
    },
    {
      "cell_type": "markdown",
      "source": [
        "\n",
        "**Implementacja rozwiązań problemu plecakowego**"
      ],
      "metadata": {
        "id": "GiRRw8vUOBNW"
      }
    },
    {
      "cell_type": "code",
      "source": [
        "import itertools\n",
        "class KnapSack:\n",
        "  def __init__(self, profits, weights, capacity):\n",
        "    self.profits = profits\n",
        "    self.weights = weights\n",
        "    self.capacity = capacity\n",
        "\n",
        "  def solve_knapsack_brute_force(self):\n",
        "    items_num = len(self.weights)\n",
        "    best_combination = None\n",
        "    best_profit = 0\n",
        "    best_weight = 0\n",
        "\n",
        "    for combination in itertools.product([1,0], repeat=items_num):\n",
        "      weight = sum(combination[item] * self.weights[item] for item in range(items_num))\n",
        "      profit = sum(combination[item] * self.profits[item] for item in range(items_num))\n",
        "\n",
        "      if weight <= self.capacity and profit > best_profit:\n",
        "        best_combination = combination\n",
        "        best_profit = profit\n",
        "        best_weight = weight\n",
        "\n",
        "    return list(best_combination), best_profit, best_weight\n",
        "\n",
        "  def solve_knapsack_pw_ratio(self):\n",
        "    items_num = len(self.weights)\n",
        "    pw_ratio = [(item, self.profits[item] / self.weights[item]) for item in range(items_num)]\n",
        "    pw_ratio.sort(reverse=True, key=lambda item: item[1])\n",
        "\n",
        "    best_combination = [0] * items_num\n",
        "    best_weight = 0\n",
        "    best_profit = 0\n",
        "    for item, _ in pw_ratio:\n",
        "      if best_weight + self.weights[item] <= self.capacity:\n",
        "        best_weight += self.weights[item]\n",
        "        best_profit += self.profits[item]\n",
        "        best_combination[item] = 1\n",
        "\n",
        "    return best_combination, best_profit, best_weight"
      ],
      "outputs": [],
      "execution_count": 1,
      "metadata": {
        "id": "s5J82x9WuSOh"
      }
    },
    {
      "cell_type": "markdown",
      "source": [
        "Rozwiązanie przykładu podanego w zadaniu"
      ],
      "metadata": {
        "id": "mqYVz0EDOuui"
      }
    },
    {
      "cell_type": "code",
      "source": [
        "import numpy as np\n",
        "weights = np.array([8, 3, 5, 2])\n",
        "capacity = 9\n",
        "profits = np.array([16, 8, 9, 6])\n",
        "knapsack = KnapSack(profits, weights, capacity)\n",
        "\n",
        "print(\"Wynik metody bruteforce: \", end='')\n",
        "print(knapsack.solve_knapsack_brute_force())\n",
        "print(\"Wynik metody wykorzystującej stosunek wartości do wagi: \", end='')\n",
        "print(knapsack.solve_knapsack_pw_ratio())"
      ],
      "metadata": {
        "id": "QMHDrNAl_T19",
        "colab": {
          "base_uri": "https://localhost:8080/"
        },
        "outputId": "4df2845b-65e1-423c-e487-a6872441a65b"
      },
      "execution_count": 2,
      "outputs": [
        {
          "output_type": "stream",
          "name": "stdout",
          "text": [
            "Wynik metody bruteforce: ([0, 1, 1, 0], 17, 8)\n",
            "Wynik metody wykorzystującej stosunek wartości do wagi: ([0, 1, 0, 1], 14, 5)\n"
          ]
        }
      ]
    },
    {
      "cell_type": "markdown",
      "source": [
        "Wynik jest inny, ponieważ metoda heurystyczna nie zawsze zwraca optymalne rozwiązanie"
      ],
      "metadata": {
        "id": "rXBqB-ICPbX2"
      }
    },
    {
      "cell_type": "markdown",
      "source": [
        "**Klasa Timer do mierzenia czasu wykonania**"
      ],
      "metadata": {
        "id": "09CkkaibOl6i"
      }
    },
    {
      "cell_type": "code",
      "source": [
        "import gc\n",
        "import time\n",
        "class Timer:\n",
        "  def __init__(self):\n",
        "    self.start_time = 0\n",
        "    self.stop_time = 0\n",
        "    self.gc_old = None\n",
        "\n",
        "  def start(self):\n",
        "    gc_old = gc.isenabled()\n",
        "    gc.disable()\n",
        "    self.start_time = time.process_time()\n",
        "\n",
        "  def stop(self):\n",
        "    self.stop_time = time.process_time()\n",
        "    if self.gc_old:\n",
        "      gc.enable()\n",
        "\n",
        "  def time(self):\n",
        "    return self.stop_time - self.start_time"
      ],
      "metadata": {
        "id": "-wz2NmwXYxFO"
      },
      "execution_count": 3,
      "outputs": []
    },
    {
      "cell_type": "markdown",
      "source": [
        "**Mierzenie czasu rozwiązania metodą bruteforce** \\\n",
        "Wykonuję pomiar czasu dla ilości przedmiotów od 2 do 20"
      ],
      "metadata": {
        "id": "GvRKKUFkPyOD"
      }
    },
    {
      "cell_type": "code",
      "source": [
        "import random\n",
        "MAX_ITEMS = 20  #max 100\n",
        "weights = random.sample(range(1, 100), MAX_ITEMS)\n",
        "profits = random.sample(range(1, 100), MAX_ITEMS)\n",
        "\n",
        "timer = Timer()\n",
        "solution_time = []\n",
        "\n",
        "for i in range(2, MAX_ITEMS + 1):\n",
        "  knapsack = KnapSack(profits[:i], weights[:i], sum(weights[:i]) / 2)\n",
        "  timer.start()\n",
        "  knapsack.solve_knapsack_brute_force()\n",
        "  timer.stop()\n",
        "  solution_time.append((i, timer.time()))"
      ],
      "metadata": {
        "id": "wilXNcVIB-Hi"
      },
      "execution_count": 4,
      "outputs": []
    },
    {
      "cell_type": "markdown",
      "source": [
        "**Wykres czasu rozwiązania metodą bruteforce w zależności od ilości przedmiotów**"
      ],
      "metadata": {
        "id": "esj1kj8NQgzn"
      }
    },
    {
      "cell_type": "code",
      "source": [
        "from matplotlib import pyplot as plt\n",
        "\n",
        "plt.ylabel(\"Time (s)\")\n",
        "plt.xlabel(\"Number of items\")\n",
        "plt.title(\"Knapsack bruteforce solution time\")\n",
        "items, time = zip(*solution_time)\n",
        "plt.plot(items, time)\n",
        "plt.xticks(items)\n",
        "plt.show()"
      ],
      "metadata": {
        "colab": {
          "base_uri": "https://localhost:8080/",
          "height": 472
        },
        "id": "-uxQf8a_nLwA",
        "outputId": "b2745874-9d3a-4eaf-ca4b-6043af8378fa"
      },
      "execution_count": 5,
      "outputs": [
        {
          "output_type": "display_data",
          "data": {
            "text/plain": [
              "<Figure size 640x480 with 1 Axes>"
            ],
            "image/png": "[encoded data removed]"
          },
          "metadata": {}
        }
      ]
    },
    {
      "cell_type": "markdown",
      "source": [
        "Metoda bruteforce da zawsze optymalne rozwiązanie, ponieważ sprawdza, wszystkie możliwe kombinacje. Metoda heurystyczna, pakująca przedmioty według stosunku wartości do wagi, da rozwiązanie szybciej, ale nie zawsze będzie ono optymalne. Możliwe jest, że przedmiot z większym stosunkem wartości do wagi zajmie tyle miejsca, że kolejne, które dały by większy zysk, już sie nie zmieszczą. Na przykład jeśli mamy 10 jednostek miejsca, przemiot o wadze 7 i zysku 7 (stosunek 1) zajmie miejsce dwóm przedmiotom o wadze 5 i zysku 4 ( w sumie było by 8 zysku, ale stosunek tych przedmiotów to 0.8, więc zostały odrzucone). Metoda heurystyczna jest dużo szybsza, ale nie zawsze da optymalne rozwiązanie."
      ],
      "metadata": {
        "id": "sRkvxReGMJTS"
      }
    }
  ],
  "metadata": {
    "colab": {
      "provenance": []
    },
    "kernelspec": {
      "name": "python3",
      "display_name": "Python 3"
    },
    "language_info": {
      "name": "python"
    },
    "accelerator": "GPU",
    "nteract": {
      "version": "nteract-front-end@1.0.0"
    }
  },
  "nbformat": 4,
  "nbformat_minor": 0
}